{
 "cells": [
  {
   "cell_type": "code",
   "execution_count": 28,
   "metadata": {
    "colab": {
     "base_uri": "https://localhost:8080/"
    },
    "id": "WWo6ApEdQqWm",
    "outputId": "994b35b3-1e0d-4991-9a3b-68c73a947299"
   },
   "outputs": [],
   "source": [
    "from sklearn.linear_model import LogisticRegression\n",
    "from sklearn.svm import SVC\n",
    "from sklearn.model_selection import train_test_split\n",
    "from sklearn.metrics import accuracy_score,classification_report\n",
    "from gensim.models import KeyedVectors\n",
    "import pandas as pd\n",
    "import numpy as np"
   ]
  },
  {
   "cell_type": "code",
   "execution_count": 7,
   "metadata": {
    "id": "-zYBfxUpWEqZ",
    "scrolled": true
   },
   "outputs": [],
   "source": [
    "data = pd.read_csv(\"dataset.csv\")"
   ]
  },
  {
   "cell_type": "code",
   "execution_count": 8,
   "metadata": {
    "id": "k69LQSfpQxXU"
   },
   "outputs": [],
   "source": [
    "labels = data[\"category\"].values\n",
    "sentences = data[\"text\"].values"
   ]
  },
  {
   "cell_type": "code",
   "execution_count": 9,
   "metadata": {
    "id": "cAxuai1tRf02"
   },
   "outputs": [],
   "source": [
    "Y = []\n",
    "for l in labels:\n",
    "    if l == \"siyaset \":\n",
    "        Y.append(0)\n",
    "    elif l == \"dunya \":\n",
    "        Y.append(1)\n",
    "    elif l == \"ekonomi \":\n",
    "        Y.append(2)\n",
    "    elif l == \"kultur \":\n",
    "        Y.append(3)\n",
    "    elif l == \"saglik \":\n",
    "        Y.append(4)\n",
    "    elif l == \"spor \":\n",
    "        Y.append(5)\n",
    "    elif l == \"teknoloji \":\n",
    "        Y.append(6)"
   ]
  },
  {
   "cell_type": "code",
   "execution_count": 12,
   "metadata": {},
   "outputs": [],
   "source": [
    "model = KeyedVectors.load_word2vec_format(\"vectors.txt\")"
   ]
  },
  {
   "cell_type": "code",
   "execution_count": 16,
   "metadata": {
    "id": "4FLgHZJFSnQU"
   },
   "outputs": [
    {
     "name": "stderr",
     "output_type": "stream",
     "text": [
      "/Users/okanciftci/opt/anaconda3/envs/spotify-rec/lib/python3.7/site-packages/ipykernel_launcher.py:10: DeprecationWarning: Call to deprecated `wv` (Attribute will be removed in 4.0.0, use self instead).\n",
      "  # Remove the CWD from sys.path while we load stuff.\n"
     ]
    }
   ],
   "source": [
    "def preprocess_label(review):\n",
    "    review_text = review\n",
    "    words = review_text.split()\n",
    "    return (words)\n",
    "\n",
    "def featureVecMethod(words, model, num_features):\n",
    "    featureVec = np.zeros(num_features,dtype=\"float32\")\n",
    "    nwords = 0\n",
    "    \n",
    "    index2word_set = set(model.wv.index2word)\n",
    "    \n",
    "    for word in  words:\n",
    "        if word in index2word_set:\n",
    "            nwords = nwords + 1\n",
    "            featureVec = np.add(featureVec,model[word])\n",
    "\n",
    "    featureVec = np.divide(featureVec, nwords)\n",
    "    return featureVec\n",
    "def getAvgFeatureVecs(reviews, model, num_features):\n",
    "    counter = 0\n",
    "    reviewFeatureVecs = np.zeros((len(reviews),num_features),dtype=\"float32\")\n",
    "    for review in reviews:\n",
    "        reviewFeatureVecs[counter] = featureVecMethod(review, model, num_features)\n",
    "        counter = counter+1\n",
    "        \n",
    "    return reviewFeatureVecs\n",
    "\n",
    "data_vects = []\n",
    "for review in sentences:\n",
    "        data_vects.append(preprocess_label(review))\n",
    "    \n",
    "dataAvgVects = getAvgFeatureVecs(data_vects, model, 300)"
   ]
  },
  {
   "cell_type": "code",
   "execution_count": 18,
   "metadata": {
    "id": "CNZwOj7zTC3v"
   },
   "outputs": [],
   "source": [
    "x_train, x_test, y_train, y_test = train_test_split(dataAvgVects, Y, random_state=42, shuffle=True)"
   ]
  },
  {
   "cell_type": "code",
   "execution_count": 29,
   "metadata": {
    "id": "IQmhHx3RTHqC"
   },
   "outputs": [],
   "source": [
    "svc=SVC()\n",
    "svc.fit(x_train,y_train)\n",
    "pred = svc.predict(x_test)"
   ]
  },
  {
   "cell_type": "code",
   "execution_count": 30,
   "metadata": {},
   "outputs": [
    {
     "name": "stdout",
     "output_type": "stream",
     "text": [
      "              precision    recall  f1-score   support\n",
      "\n",
      "           0    0.87958   0.84848   0.86375       198\n",
      "           1    0.84810   0.81707   0.83230       164\n",
      "           2    0.82682   0.85549   0.84091       173\n",
      "           3    0.88043   0.93642   0.90756       173\n",
      "           4    0.94771   0.96026   0.95395       151\n",
      "           5    0.99448   0.94737   0.97035       190\n",
      "           6    0.87709   0.89205   0.88451       176\n",
      "\n",
      "    accuracy                        0.89306      1225\n",
      "   macro avg    0.89346   0.89388   0.89333      1225\n",
      "weighted avg    0.89390   0.89306   0.89314      1225\n",
      "\n",
      "Accuracy:  0.893061224489796\n"
     ]
    }
   ],
   "source": [
    "print(classification_report(y_test, pred, [0,1,2,3,4,5,6],digits=5))\n",
    "print(\"Accuracy: \", accuracy_score(y_test, pred))"
   ]
  },
  {
   "cell_type": "code",
   "execution_count": null,
   "metadata": {},
   "outputs": [],
   "source": []
  },
  {
   "cell_type": "code",
   "execution_count": null,
   "metadata": {},
   "outputs": [],
   "source": []
  }
 ],
 "metadata": {
  "colab": {
   "collapsed_sections": [],
   "name": "Untitled10.ipynb",
   "provenance": []
  },
  "kernelspec": {
   "display_name": "Python 3",
   "language": "python",
   "name": "python3"
  },
  "language_info": {
   "codemirror_mode": {
    "name": "ipython",
    "version": 3
   },
   "file_extension": ".py",
   "mimetype": "text/x-python",
   "name": "python",
   "nbconvert_exporter": "python",
   "pygments_lexer": "ipython3",
   "version": "3.7.7"
  }
 },
 "nbformat": 4,
 "nbformat_minor": 1
}
