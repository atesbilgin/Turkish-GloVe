{
 "cells": [
  {
   "cell_type": "code",
   "execution_count": 1,
   "metadata": {},
   "outputs": [],
   "source": [
    "from gensim.models import KeyedVectors\n",
    "from gensim.scripts.glove2word2vec import glove2word2vec "
   ]
  },
  {
   "cell_type": "code",
   "execution_count": 4,
   "metadata": {},
   "outputs": [
    {
     "data": {
      "text/plain": [
       "(570913, 300)"
      ]
     },
     "execution_count": 4,
     "metadata": {},
     "output_type": "execute_result"
    }
   ],
   "source": [
    "glove_file = 'vectors.txt'\n",
    "word2vec_file = \"word2Vec.txt\"\n",
    "\n",
    "glove2word2vec(glove_file, word2vec_file)\n",
    "# To load glove word embeddings on gensim model we need to convert \"vectors.txt\" file to Word2Vec format."
   ]
  },
  {
   "cell_type": "code",
   "execution_count": 5,
   "metadata": {},
   "outputs": [],
   "source": [
    "model = KeyedVectors.load_word2vec_format(word2vec_file)"
   ]
  },
  {
   "cell_type": "code",
   "execution_count": 7,
   "metadata": {},
   "outputs": [
    {
     "data": {
      "text/plain": [
       "[('köpek', 0.8577620983123779),\n",
       " ('kediler', 0.7792182564735413),\n",
       " ('yavru', 0.7274057865142822),\n",
       " ('kedinin', 0.715461254119873),\n",
       " ('Kedi', 0.6983622312545776),\n",
       " ('köpekler', 0.6863366365432739),\n",
       " ('kedilerin', 0.6727098226547241),\n",
       " ('evcil', 0.6533403396606445),\n",
       " ('kedileri', 0.6399177312850952),\n",
       " ('köpeğin', 0.6390684843063354)]"
      ]
     },
     "execution_count": 7,
     "metadata": {},
     "output_type": "execute_result"
    }
   ],
   "source": [
    "# Similar Words\n",
    "model.most_similar(\"kedi\")"
   ]
  },
  {
   "cell_type": "code",
   "execution_count": 10,
   "metadata": {},
   "outputs": [
    {
     "name": "stdout",
     "output_type": "stream",
     "text": [
      "Synonyms fakir, yoksul have cosine distance: 0.16935408115386963\n",
      "Antonyms fakir, zengin have cosine distance: 0.4440022110939026\n"
     ]
    }
   ],
   "source": [
    "# Synonyms & Antonyms\n",
    "w1 = \"fakir\" \n",
    "w2 = \"yoksul\"  \n",
    "w3 = \"zengin\" \n",
    "w1_w2_dist = model.distance(w1, w2)\n",
    "w1_w3_dist = model.distance(w1, w3)\n",
    "\n",
    "print(f\"Synonyms {w1}, {w2} have cosine distance: {w1_w2_dist}\") \n",
    "print(f\"Antonyms {w1}, {w3} have cosine distance: {w1_w3_dist}\")    "
   ]
  },
  {
   "cell_type": "code",
   "execution_count": 15,
   "metadata": {},
   "outputs": [
    {
     "data": {
      "text/plain": [
       "[('paris', 0.7224339246749878),\n",
       " ('londra', 0.6203832626342773),\n",
       " ('hamburg', 0.6053199768066406),\n",
       " ('amsterdam', 0.5916711091995239),\n",
       " ('prag', 0.5474485158920288),\n",
       " ('moskova', 0.542701780796051),\n",
       " ('köln', 0.5376909971237183),\n",
       " ('viyana', 0.5358775854110718),\n",
       " ('ispanya', 0.5313676595687866),\n",
       " ('hollanda', 0.5313549637794495)]"
      ]
     },
     "execution_count": 15,
     "metadata": {},
     "output_type": "execute_result"
    }
   ],
   "source": [
    "# Solving Analogies with Word Vectors\n",
    "model.most_similar(positive=['fransa', 'berlin'], negative=['almanya'])"
   ]
  },
  {
   "cell_type": "code",
   "execution_count": 17,
   "metadata": {},
   "outputs": [
    {
     "data": {
      "text/plain": [
       "[('gidiyor', 0.6201784610748291),\n",
       " ('çıkıyor', 0.5358303189277649),\n",
       " ('oluyor', 0.5255967378616333),\n",
       " ('gitmiyor', 0.4894057810306549),\n",
       " ('gelmiyor', 0.4873669147491455),\n",
       " ('başlıyor', 0.4532051086425781),\n",
       " ('geçiyor', 0.4444100260734558),\n",
       " ('mu', 0.44325271248817444),\n",
       " ('giderken', 0.4413471519947052),\n",
       " ('alıyor', 0.4389156699180603)]"
      ]
     },
     "execution_count": 17,
     "metadata": {},
     "output_type": "execute_result"
    }
   ],
   "source": [
    "# Solving Analogies with Word Vectors\n",
    "model.most_similar(positive=['geliyor', 'gitmek'], negative=['gelmek'])"
   ]
  },
  {
   "cell_type": "code",
   "execution_count": null,
   "metadata": {},
   "outputs": [],
   "source": []
  }
 ],
 "metadata": {
  "kernelspec": {
   "display_name": "Python 3",
   "language": "python",
   "name": "python3"
  },
  "language_info": {
   "codemirror_mode": {
    "name": "ipython",
    "version": 3
   },
   "file_extension": ".py",
   "mimetype": "text/x-python",
   "name": "python",
   "nbconvert_exporter": "python",
   "pygments_lexer": "ipython3",
   "version": "3.7.7"
  }
 },
 "nbformat": 4,
 "nbformat_minor": 4
}
